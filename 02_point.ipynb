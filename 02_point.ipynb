{
  "cells": [
    {
      "cell_type": "markdown",
      "metadata": {
        "id": "Vy3wKSHZxpiV"
      },
      "source": [
        "# Przekształcenia punktowe"
      ]
    },
    {
      "cell_type": "markdown",
      "metadata": {
        "id": "f5geJf5NxpiW"
      },
      "source": [
        "W trakcie niniejszego ćwiczenia zapoznamy się z podstawowymi operacjami punktowymi (bezkontekstowymi) przeprowadzanymi na obrazach cyfrowych:\n",
        "- typu LUT (operacja jednoargumentowa),\n",
        "- arytmetycznymi (operacje dwuargumentowe): dodawanie, odejmowanie, mnożenie, dzielenie,\n",
        "- logicznymi (operacje jedno i dwuargumentowe): AND, OR, XOR, NOT."
      ]
    },
    {
      "cell_type": "markdown",
      "metadata": {
        "id": "Fz3va88LxpiW"
      },
      "source": [
        "Na początku zaimportuj potrzebne biblioteki."
      ]
    },
    {
      "cell_type": "code",
      "execution_count": null,
      "metadata": {
        "id": "-7rPAvqdxpiX"
      },
      "outputs": [],
      "source": [
        "import cv2\n",
        "import os\n",
        "import requests\n",
        "import numpy as np\n",
        "import matplotlib.pyplot as plt"
      ]
    },
    {
      "cell_type": "markdown",
      "metadata": {
        "id": "X7HjLV1JxpiY"
      },
      "source": [
        "## Operacja LUT\n",
        "\n",
        "**Operacja LUT** polega na przekształcaniu wartości poszczególnych pikseli obrazu przy użyciu z góry przygotowanych tabel przekodowań (tabel korekcji).\n",
        "\n",
        "W przetwarzaniu obrazów najczęściej wykorzystuje się następujące funkcje:\n",
        "- typu kwadratowa, pierwiastek kwadratowy\n",
        "- typu logarytm, odwrócony logarytm\n",
        "- typu wykładnicza,\n",
        "- inne (np. piłokształtna)."
      ]
    },
    {
      "cell_type": "markdown",
      "metadata": {
        "id": "DYtJK6WTxpiZ"
      },
      "source": [
        "W tym zadaniu zostały dla Państwa przygotowane tablice przekodowania.\n",
        "Proszę pobrać je z githuba `https://raw.githubusercontent.com/vision-agh/poc_sw/master/02_Point/lut.py` (można użyć znanej biblioteki request), a następnie zaimportować je poleceniem `import lut`.\n",
        "Od tego momentu można się do nich odwoływać w następujący sposób: `lut.log` itd."
      ]
    },
    {
      "cell_type": "code",
      "execution_count": null,
      "metadata": {
        "id": "LlM06CPHxpia"
      },
      "outputs": [],
      "source": [
        "url = 'https://raw.githubusercontent.com/vision-agh/poc_sw/master/02_Point/'\n",
        "fileName = 'lut.py'\n",
        "if not os.path.exists(fileName) :\n",
        "    r = requests.get(url + fileName, allow_redirects=True)\n",
        "    open(fileName, 'wb').write(r.content)"
      ]
    },
    {
      "cell_type": "markdown",
      "metadata": {
        "id": "IIlox0ZZxpia"
      },
      "source": [
        "Wyświetl przykładowe przekodowanie wykorzystując funkcję `plt.plot(lut.kwadratowa)`."
      ]
    },
    {
      "cell_type": "code",
      "execution_count": null,
      "metadata": {
        "id": "YR3cJ1ZExpib"
      },
      "outputs": [],
      "source": [
        "import lut\n",
        "\n",
        "plt.plot(lut.kwadratowa)\n",
        "plt.title(\"Przykładowe przekodowanie: kwadratowa\")\n",
        "plt.xlabel(\"Wejście\")\n",
        "plt.ylabel(\"Wyjście\")\n",
        "plt.grid(True)\n",
        "plt.show()"
      ]
    },
    {
      "cell_type": "markdown",
      "metadata": {
        "id": "9fU-_PM2xpih"
      },
      "source": [
        "Wybierz jeden z obrazów: _lena.bmp_ lub _jet.bmp_ (w razie potrzeby pobierz go z githuba):\n",
        "- https://raw.githubusercontent.com/vision-agh/poc_sw/master/02_Point/lena.bmp\n",
        "- https://raw.githubusercontent.com/vision-agh/poc_sw/master/02_Point/jet.bmp\n",
        "\n",
        "Wczytaj go i wyświetl."
      ]
    },
    {
      "cell_type": "code",
      "execution_count": null,
      "metadata": {
        "id": "HXgvfWJDxpih"
      },
      "outputs": [],
      "source": [
        "fileName = 'lena.bmp'\n",
        "if not os.path.exists(fileName) :\n",
        "    r = requests.get(url + fileName, allow_redirects=True)\n",
        "    open(fileName, 'wb').write(r.content)\n",
        "\n",
        "fileName = 'jet.bmp'\n",
        "if not os.path.exists(fileName) :\n",
        "    r = requests.get(url + fileName, allow_redirects=True)\n",
        "    open(fileName, 'wb').write(r.content)"
      ]
    },
    {
      "cell_type": "code",
      "source": [
        "fileName = 'lena.bmp'\n",
        "url = 'https://raw.githubusercontent.com/vision-agh/poc_sw/master/02_Point/'\n",
        "\n",
        "if not os.path.exists(fileName):\n",
        "    r = requests.get(url + fileName, allow_redirects=True)\n",
        "    open(fileName, 'wb').write(r.content)\n",
        "\n",
        "# Wczytanie obrazu przy użyciu OpenCV\n",
        "image = cv2.imread(fileName, cv2.IMREAD_COLOR)\n",
        "\n",
        "# Konwersja kolorów z BGR na RGB (bo OpenCV wczytuje obraz w formacie BGR)\n",
        "image_rgb = cv2.cvtColor(image, cv2.COLOR_BGR2RGB)\n",
        "\n",
        "plt.imshow(image_rgb)\n",
        "plt.title(fileName)\n",
        "plt.axis('off')\n",
        "plt.show()"
      ],
      "metadata": {
        "id": "OheXzYf8Baw3"
      },
      "execution_count": null,
      "outputs": []
    },
    {
      "cell_type": "markdown",
      "metadata": {
        "id": "7ZiUfo-Zxpii"
      },
      "source": [
        "Na wybranym obrazie wykonaj operację LUT.\n",
        "Służy do tego funkcja `cv2.LUT` przyjmująca dwa argumenty: obraz oraz tablicę przekodowania.\n",
        "Wybierz dowolną z zaimportowanych tablic i wyświetl wynikowy obraz."
      ]
    },
    {
      "cell_type": "code",
      "execution_count": null,
      "metadata": {
        "id": "qst8Ghz8xpii"
      },
      "outputs": [],
      "source": [
        "lut_table = lut.kwadratowa\n",
        "\n",
        "fileName = 'lena.bmp'\n",
        "image = cv2.imread(fileName, cv2.IMREAD_GRAYSCALE)\n",
        "\n",
        "image_lut = cv2.LUT(image, lut_table)\n",
        "\n",
        "plt.figure(figsize=(10, 5))\n",
        "\n",
        "plt.subplot(1, 2, 1)\n",
        "plt.imshow(image, cmap='gray')\n",
        "plt.title('Oryginalny obraz')\n",
        "plt.axis('off')\n",
        "\n",
        "plt.subplot(1, 2, 2)\n",
        "plt.imshow(image_lut, cmap='gray')\n",
        "plt.title('Obraz po operacji LUT (kwadratowa)')\n",
        "plt.axis('off')\n",
        "\n",
        "plt.show()"
      ]
    },
    {
      "cell_type": "markdown",
      "metadata": {
        "id": "F3ll_nG4xpii"
      },
      "source": [
        "Aby lepiej zobaczyć w jaki sposób działają różne przekodowania LUT, skonstruujemy funkcję, która jako argumenty pobierać będzie obrazek oryginalny oraz tablicę przekodowania, a następnie na wspólnym rysunku będzie wyświetlać: funkcję, obraz wejściowy oraz wynik przekodowania.\n",
        "\n",
        "Przypomnienie składni tworzenia funkcji w pythonie:\n",
        "```{python}\n",
        "  def nazwa_funkcji(para, metry):\n",
        "  \t# cialo funkcji\n",
        "```"
      ]
    },
    {
      "cell_type": "markdown",
      "metadata": {
        "id": "ghrxyT6Xxpij"
      },
      "source": [
        "  - Stwórz nową funkcję i nazwij ją LUT.\n",
        "  - Funkcja powinna przyjmować dwa parametry: obraz oraz tablicę przekodowania.\n",
        "  - W ciele funkcji wykonaj przekodowanie LUT, podobnie jak wcześniej w przykładzie.\n",
        "  - Funkcja powinna wyświetlić wykres składający się z 3 umieszczonych obok siebie pól: wykres przekodowania, obraz oryginalny oraz obraz przekształcony.\n",
        "    Każdy z wykresów powinien być podpisany.\n",
        "    _(W razie problemów można przypomnieć sobie te zagadnienia z laboratorium wprowadzającego)_\n",
        "  - Jeśli wykres przekodowania jest zbyt rozciągnięty, można go wyrównać, np. `ax2.set_aspect('equal')`."
      ]
    },
    {
      "cell_type": "code",
      "execution_count": null,
      "metadata": {
        "id": "a4e4FiO4xpij"
      },
      "outputs": [],
      "source": [
        "def LUT(image, lut_table):\n",
        "    image_lut = cv2.LUT(image, lut_table)\n",
        "\n",
        "    fig, (ax1, ax2, ax3) = plt.subplots(1, 3, figsize=(15, 5))\n",
        "\n",
        "    # 1. Wykres tablicy LUT (przekodowanie)\n",
        "    ax1.plot(lut_table)\n",
        "    ax1.set_title(\"Wykres przekodowania\")\n",
        "    ax1.set_xlabel(\"Wejście\")\n",
        "    ax1.set_ylabel(\"Wyjście\")\n",
        "    ax1.set_aspect('equal')\n",
        "\n",
        "    # 2. Oryginalny obraz\n",
        "    ax2.imshow(image, cmap='gray')\n",
        "    ax2.set_title(\"Oryginalny obraz\")\n",
        "    ax2.axis('off')\n",
        "\n",
        "    # 3. Obraz po przekształceniu LUT\n",
        "    ax3.imshow(image_lut, cmap='gray')\n",
        "    ax3.set_title(\"Obraz po operacji LUT\")\n",
        "    ax3.axis('off')\n",
        "\n",
        "    plt.tight_layout()\n",
        "    plt.show()\n",
        "\n",
        "fileName = 'lena.bmp'\n",
        "image = cv2.imread(fileName, cv2.IMREAD_GRAYSCALE)\n",
        "\n",
        "LUT(image, lut.kwadratowa)"
      ]
    },
    {
      "cell_type": "markdown",
      "metadata": {
        "id": "7RRUhOokxpik"
      },
      "source": [
        "Wywołaj przygotowaną funkcję dla każdego z przekształceń.\n",
        "W wyniku powinno powstać 7 wykresów."
      ]
    },
    {
      "cell_type": "code",
      "execution_count": null,
      "metadata": {
        "id": "dpdmn7sxxpil"
      },
      "outputs": [],
      "source": [
        "LUT(image, lut.kwadratowa)\n",
        "LUT(image, lut.pierwiastkowa)\n",
        "LUT(image, lut.log)\n",
        "LUT(image, lut.odwlog)\n",
        "LUT(image, lut.pila)\n",
        "LUT(image, lut.wykladnicza)\n",
        "LUT(image, lut.odwrotna)"
      ]
    },
    {
      "cell_type": "markdown",
      "metadata": {
        "id": "psRy6lXjxpil"
      },
      "source": [
        "## Operacja arytmetyczne\n",
        "\n",
        "### Dodawanie\n",
        "\n",
        "Wczytaj dwa obrazy _lena.bmp_ i _jet.bmp_ i wyświetl je."
      ]
    },
    {
      "cell_type": "code",
      "execution_count": null,
      "metadata": {
        "id": "PXAEXXm1xpil"
      },
      "outputs": [],
      "source": [
        "lena_file = 'lena.bmp'\n",
        "jet_file = 'jet.bmp'\n",
        "\n",
        "lena_image = cv2.imread(lena_file, cv2.IMREAD_GRAYSCALE)\n",
        "jet_image = cv2.imread(jet_file, cv2.IMREAD_GRAYSCALE)\n",
        "\n",
        "plt.figure(figsize=(10, 5))\n",
        "\n",
        "plt.subplot(1, 2, 1)\n",
        "plt.imshow(lena_image, cmap='gray')\n",
        "plt.title('lena.bmp')\n",
        "plt.axis('off')\n",
        "\n",
        "plt.subplot(1, 2, 2)\n",
        "plt.imshow(jet_image, cmap='gray')\n",
        "plt.title('jet.bmp')\n",
        "plt.axis('off')\n",
        "\n",
        "plt.tight_layout()\n",
        "plt.show()"
      ]
    },
    {
      "cell_type": "markdown",
      "metadata": {
        "id": "NpBHUdysxpil"
      },
      "source": [
        "Dodaj obrazy _lena_ i _jet_, wykorzystaj funkcję `cv2.add`.\n",
        "Uzyskany wynik wyświetl."
      ]
    },
    {
      "cell_type": "code",
      "execution_count": null,
      "metadata": {
        "id": "H1J6kwlAxpil"
      },
      "outputs": [],
      "source": [
        "# Dodanie obrazów przy użyciu cv2.add\n",
        "added_image = cv2.add(lena_image, jet_image)\n",
        "\n",
        "plt.figure(figsize=(10, 5))\n",
        "\n",
        "plt.subplot(1, 3, 1)\n",
        "plt.imshow(lena_image, cmap='gray')\n",
        "plt.title('lena.bmp')\n",
        "plt.axis('off')\n",
        "\n",
        "plt.subplot(1, 3, 2)\n",
        "plt.imshow(jet_image, cmap='gray')\n",
        "plt.title('jet.bmp')\n",
        "plt.axis('off')\n",
        "\n",
        "plt.subplot(1, 3, 3)\n",
        "plt.imshow(added_image, cmap='gray')\n",
        "plt.title('Dodane obrazy')\n",
        "plt.axis('off')\n",
        "\n",
        "plt.tight_layout()\n",
        "plt.show()"
      ]
    },
    {
      "cell_type": "markdown",
      "metadata": {
        "id": "Ru1Asgdzxpil"
      },
      "source": [
        "Czy wynik sumowania jest satysfakcjonujący?\n",
        "Co może niekorzystnie wpływać na rezultat operacji?\n",
        "Spróbuj wykonać dodawanie ponownie wykorzystując typ uint16 (`jet.astype('uint16')`) dla arguemntów dodawania.\n",
        "Wynikowy obraz należy przeskalować do zakresu 0-255, zamienić na typ uint8 i wyświetlić.\n",
        "**Uwaga: operacja ta jest użyteczna w przypadku, gdy dane do wyświetlenia wykraczają poza zakres 0-255, w przeciwnym przypadku jej wykorzystanie może zniekształcić wyniki.**"
      ]
    },
    {
      "cell_type": "code",
      "execution_count": null,
      "metadata": {
        "id": "_d-YYXhHxpim"
      },
      "outputs": [],
      "source": [
        "# Konwersja obrazów do typu uint16\n",
        "lena_uint16 = lena_image.astype('uint16')\n",
        "jet_uint16 = jet_image.astype('uint16')\n",
        "\n",
        "# Dodanie obrazów w typie uint16\n",
        "added_image_uint16 = cv2.add(lena_uint16, jet_uint16)\n",
        "\n",
        "# Przeskalowanie wynikowego obrazu do zakresu 0-255\n",
        "added_image_scaled = cv2.normalize(added_image_uint16, None, 0, 255, cv2.NORM_MINMAX)\n",
        "\n",
        "# Zamiana na typ uint8\n",
        "added_image_uint8 = added_image_scaled.astype('uint8')\n",
        "\n",
        "# Wyświetlenie obrazów\n",
        "plt.figure(figsize=(15, 5))\n",
        "\n",
        "plt.subplot(1, 3, 1)\n",
        "plt.imshow(lena_image, cmap='gray')\n",
        "plt.title('lena.bmp')\n",
        "plt.axis('off')\n",
        "\n",
        "plt.subplot(1, 3, 2)\n",
        "plt.imshow(jet_image, cmap='gray')\n",
        "plt.title('jet.bmp')\n",
        "plt.axis('off')\n",
        "\n",
        "plt.subplot(1, 3, 3)\n",
        "plt.imshow(added_image_uint8, cmap='gray')\n",
        "plt.title('Dodane obrazy (uint16 -> uint8)')\n",
        "plt.axis('off')\n",
        "\n",
        "plt.tight_layout()\n",
        "plt.show()"
      ]
    },
    {
      "cell_type": "markdown",
      "metadata": {
        "id": "efksr68txpim"
      },
      "source": [
        "### Kombinacja liniowa\n",
        "\n",
        "Do wykonywania operacji kombinacji liniowej służy funkcja `cv2.addWeighted`.\n",
        "Zapoznaj się z dokumentacją tej funkcji i przetestuj kilka kombinacji liniowych obrazów _lena_ i _jet_.\n",
        "Wyświetl wynik dowolnej z nich."
      ]
    },
    {
      "cell_type": "code",
      "execution_count": null,
      "metadata": {
        "id": "gBzwSBPbxpim"
      },
      "outputs": [],
      "source": [
        "# Kombinacja liniowa obrazów z różnymi wagami\n",
        "alpha = 0.7\n",
        "beta = 0.3\n",
        "gamma = 0\n",
        "\n",
        "# Kombinacja liniowa obrazów\n",
        "combined_image = cv2.addWeighted(lena_image, alpha, jet_image, beta, gamma)\n",
        "\n",
        "# Wyświetlenie obrazów\n",
        "plt.figure(figsize=(10, 5))\n",
        "\n",
        "plt.subplot(1, 3, 1)\n",
        "plt.imshow(lena_image, cmap='gray')\n",
        "plt.title('lena.bmp')\n",
        "plt.axis('off')\n",
        "\n",
        "plt.subplot(1, 3, 2)\n",
        "plt.imshow(jet_image, cmap='gray')\n",
        "plt.title('jet.bmp')\n",
        "plt.axis('off')\n",
        "\n",
        "plt.subplot(1, 3, 3)\n",
        "plt.imshow(combined_image, cmap='gray')\n",
        "plt.title(f'Kombinacja liniowa: {alpha}*lena + {beta}*jet')\n",
        "plt.axis('off')\n",
        "\n",
        "plt.tight_layout()\n",
        "plt.show()"
      ]
    },
    {
      "cell_type": "markdown",
      "metadata": {
        "id": "nylvFTwAxpim"
      },
      "source": [
        "### Odejmowanie\n",
        "\n",
        "Wykorzystując funkcję `cv2.subtract` odejmij obrazy _lena_ i _jet_."
      ]
    },
    {
      "cell_type": "code",
      "execution_count": null,
      "metadata": {
        "id": "Zt9LMf3Fxpim"
      },
      "outputs": [],
      "source": [
        "# Odejmowanie obrazów\n",
        "subtracted_image = cv2.subtract(lena_image, jet_image)\n",
        "\n",
        "# Wyświetlenie obrazów\n",
        "plt.figure(figsize=(10, 5))\n",
        "\n",
        "plt.subplot(1, 3, 1)\n",
        "plt.imshow(lena_image, cmap='gray')\n",
        "plt.title('lena.bmp')\n",
        "plt.axis('off')\n",
        "\n",
        "plt.subplot(1, 3, 2)\n",
        "plt.imshow(jet_image, cmap='gray')\n",
        "plt.title('jet.bmp')\n",
        "plt.axis('off')\n",
        "\n",
        "plt.subplot(1, 3, 3)\n",
        "plt.imshow(subtracted_image, cmap='gray')\n",
        "plt.title('Odejmowanie: lena - jet')\n",
        "plt.axis('off')\n",
        "\n",
        "plt.tight_layout()\n",
        "plt.show()"
      ]
    },
    {
      "cell_type": "markdown",
      "metadata": {
        "id": "483w1Ol4xpim"
      },
      "source": [
        "Czy wynik odejmowania jest satysfakcjonujący?\n",
        "Co może niekorzystnie wpływać na rezultat operacji?\n",
        "Często zamiast zwykłego odejmowania wykorzystuje się operację wartość bezwzględna z różnicy (pozwala to między innymi uniknąć pokazanych powyżej problemów).\n",
        "Zamień typ argumentów _lena_ i _jet_ z uint8 na **int16**, odejmij je od siebie, a następnie wykorzystując funkcję `np.abs` wykonaj operację wartość bezwzględna z różnicy.\n",
        "Wyświetl ten obraz.\n",
        "Zastanów się, dlaczego ta zmiana poprawia wynik odejmowania?"
      ]
    },
    {
      "cell_type": "code",
      "execution_count": null,
      "metadata": {
        "id": "V0ZbuqG5xpim"
      },
      "outputs": [],
      "source": [
        "# Konwersja obrazów do typu int16\n",
        "lena_int16 = lena_image.astype('int16')\n",
        "jet_int16 = jet_image.astype('int16')\n",
        "\n",
        "# Odejmowanie obrazów\n",
        "difference_image = lena_int16 - jet_int16\n",
        "\n",
        "# Operacja wartości bezwzględnej z różnicy\n",
        "absolute_difference_image = np.abs(difference_image)\n",
        "\n",
        "# Przeskalowanie do zakresu 0-255 i konwersja na uint8\n",
        "absolute_difference_image_scaled = cv2.normalize(absolute_difference_image, None, 0, 255, cv2.NORM_MINMAX).astype('uint8')\n",
        "\n",
        "# Wyświetlenie obrazów\n",
        "plt.figure(figsize=(10, 5))\n",
        "\n",
        "plt.subplot(1, 3, 1)\n",
        "plt.imshow(lena_image, cmap='gray')\n",
        "plt.title('lena.bmp')\n",
        "plt.axis('off')\n",
        "\n",
        "plt.subplot(1, 3, 2)\n",
        "plt.imshow(jet_image, cmap='gray')\n",
        "plt.title('jet.bmp')\n",
        "plt.axis('off')\n",
        "\n",
        "plt.subplot(1, 3, 3)\n",
        "plt.imshow(absolute_difference_image_scaled, cmap='gray')\n",
        "plt.title('Wartość bezwzględna różnicy')\n",
        "plt.axis('off')\n",
        "\n",
        "plt.tight_layout()\n",
        "plt.show()"
      ]
    },
    {
      "cell_type": "markdown",
      "metadata": {
        "id": "wBEu724uxpim"
      },
      "source": [
        "### Mnożenie\n",
        "\n",
        "Mnożenie dwóch obrazów pozwala wykonać funkcja `cv2.multiply`.\n",
        "Wykonaj mnożenie obrazów _lena_ i _jet_.\n",
        "Czy wynik takiej operacji zawiera jakąś istotną informację?\n",
        "Dlaczego?\n",
        "\n",
        "Przed wykonaniem mnożenia zamień typ arguemntów na **float64**. Wynik mnożenia przeskaluj do zakresu 0-255, a następnie zrzutuj na typ **uint8**."
      ]
    },
    {
      "cell_type": "code",
      "execution_count": null,
      "metadata": {
        "id": "4cnM_5wrxpin"
      },
      "outputs": [],
      "source": [
        "# Konwersja obrazów do typu float64\n",
        "lena_float64 = lena_image.astype('float64')\n",
        "jet_float64 = jet_image.astype('float64')\n",
        "\n",
        "# Mnożenie obrazów\n",
        "multiplied_image = cv2.multiply(lena_float64, jet_float64)\n",
        "\n",
        "# Przeskalowanie do zakresu 0-255\n",
        "multiplied_image_scaled = cv2.normalize(multiplied_image, None, 0, 255, cv2.NORM_MINMAX)\n",
        "\n",
        "# Zamiana na typ uint8\n",
        "multiplied_image_uint8 = multiplied_image_scaled.astype('uint8')\n",
        "\n",
        "# Wyświetlenie obrazów\n",
        "plt.figure(figsize=(10, 5))\n",
        "\n",
        "plt.subplot(1, 3, 1)\n",
        "plt.imshow(lena_image, cmap='gray')\n",
        "plt.title('lena.bmp')\n",
        "plt.axis('off')\n",
        "\n",
        "plt.subplot(1, 3, 2)\n",
        "plt.imshow(jet_image, cmap='gray')\n",
        "plt.title('jet.bmp')\n",
        "plt.axis('off')\n",
        "\n",
        "plt.subplot(1, 3, 3)\n",
        "plt.imshow(multiplied_image_uint8, cmap='gray')\n",
        "plt.title('Mnożenie: lena * jet')\n",
        "plt.axis('off')\n",
        "\n",
        "plt.tight_layout()\n",
        "plt.show()"
      ]
    },
    {
      "cell_type": "markdown",
      "metadata": {
        "id": "LQLxZNjGxpin"
      },
      "source": [
        "Mnożenie częściej wykorzystuje się jako:\n",
        "  + mnożenie przez stałą $-$ co powoduje ogólne rozjaśnienie albo ściemnienie obrazu,\n",
        "  + mnożenie przez maskę $-$ czyli obraz binarny."
      ]
    },
    {
      "cell_type": "markdown",
      "metadata": {
        "id": "Ek0IMzadxpin"
      },
      "source": [
        "Wczytaj maskę _kolo.bmp_ (https://raw.githubusercontent.com/vision-agh/poc_sw/master/02_Point/kolo.bmp).\n",
        "Przemnóż wybrany obraz przez maskę i wyświetl wynik.\n",
        "Mnożenie przez maskę można zrealizować za pomocą funkcji `cv2.multiply`, ale maskę należy należy najpierw przekształcić z zakresu 0-255 do 0-1, na przykład `(maska).astype('bool').astype('uint8')`."
      ]
    },
    {
      "cell_type": "code",
      "execution_count": null,
      "metadata": {
        "id": "-toBMqlnxpin"
      },
      "outputs": [],
      "source": [
        "fileName = 'kolo.bmp'\n",
        "if not os.path.exists(fileName) :\n",
        "    r = requests.get(url + fileName, allow_redirects=True)\n",
        "    open(fileName, 'wb').write(r.content)"
      ]
    },
    {
      "cell_type": "code",
      "source": [
        "mask_file = 'kolo.bmp'\n",
        "mask_image = cv2.imread(mask_file, cv2.IMREAD_GRAYSCALE)\n",
        "\n",
        "# Przekształcenie maski z zakresu 0-255 do 0-1\n",
        "mask_image_normalized = (mask_image.astype('bool').astype('uint8'))\n",
        "\n",
        "# Mnożenie obrazu lena przez maskę\n",
        "masked_image = cv2.multiply(lena_image, mask_image_normalized)\n",
        "\n",
        "# Wyświetlenie obrazów\n",
        "plt.figure(figsize=(10, 5))\n",
        "\n",
        "plt.subplot(1, 3, 1)\n",
        "plt.imshow(lena_image, cmap='gray')\n",
        "plt.title('lena.bmp')\n",
        "plt.axis('off')\n",
        "\n",
        "plt.subplot(1, 3, 2)\n",
        "plt.imshow(mask_image_normalized, cmap='gray')\n",
        "plt.title('Maska: kolo.bmp')\n",
        "plt.axis('off')\n",
        "\n",
        "plt.subplot(1, 3, 3)\n",
        "plt.imshow(masked_image, cmap='gray')\n",
        "plt.title('Obraz po mnożeniu przez maskę')\n",
        "plt.axis('off')\n",
        "\n",
        "plt.tight_layout()\n",
        "plt.show()"
      ],
      "metadata": {
        "id": "FIoWf-x-KvKX"
      },
      "execution_count": null,
      "outputs": []
    },
    {
      "cell_type": "markdown",
      "metadata": {
        "id": "g2rEh7IFxpin"
      },
      "source": [
        "### Negatyw\n",
        "\n",
        "Negatyw obrazu uzyskuje się za pomocą funkcji `cv2.bitwise_not(img)`\n",
        "Negatyw obrazu można również uzyskać wykorzystując przekodowanie LUT.\n",
        "Można w tym celu posłużyć się przygotowaną wcześniej tablicą `lut.odwrotna`.\n",
        "Przetestuj działanie tych funkcji i wykonaj negatyw obrazu _lena_ dowolnym sposobem."
      ]
    },
    {
      "cell_type": "code",
      "execution_count": null,
      "metadata": {
        "id": "xRtuf633xpio"
      },
      "outputs": [],
      "source": [
        "# Metoda 1: Negatyw za pomocą cv2.bitwise_not\n",
        "negativ_bitwise = cv2.bitwise_not(lena_image)\n",
        "\n",
        "# Metoda 2: Negatyw za pomocą LUT\n",
        "negativ_lut = cv2.LUT(lena_image, lut.odwrotna)\n",
        "\n",
        "# Wyświetlenie obrazów\n",
        "plt.figure(figsize=(10, 5))\n",
        "\n",
        "plt.subplot(1, 3, 1)\n",
        "plt.imshow(lena_image, cmap='gray')\n",
        "plt.title('Oryginalny obraz: lena.bmp')\n",
        "plt.axis('off')\n",
        "\n",
        "plt.subplot(1, 3, 2)\n",
        "plt.imshow(negativ_bitwise, cmap='gray')\n",
        "plt.title('Negatyw (bitwise_not)')\n",
        "plt.axis('off')\n",
        "\n",
        "plt.subplot(1, 3, 3)\n",
        "plt.imshow(negativ_lut, cmap='gray')\n",
        "plt.title('Negatyw (LUT)')\n",
        "plt.axis('off')\n",
        "\n",
        "plt.tight_layout()\n",
        "plt.show()"
      ]
    },
    {
      "cell_type": "markdown",
      "metadata": {
        "id": "8Q8AVaqVxpio"
      },
      "source": [
        "## Operacje logiczne\n",
        "\n",
        "Na poszczególnych punktach obrazu (najczęściej binarnego $-$ czyli składającego się z dwóch kolorów: czarnego i białego) można wykonywać operacje logiczne: NOT, AND, OR, XOR itp.\n",
        "Wczytaj dwa obrazy: _kolo.bmp_ i _kwadrat.bmp_ (https://raw.githubusercontent.com/vision-agh/poc_sw/master/02_Point/kwadrat.bmp), następnie wyświetl je."
      ]
    },
    {
      "cell_type": "code",
      "execution_count": null,
      "metadata": {
        "id": "n7BwkzwMxpio"
      },
      "outputs": [],
      "source": [
        "fileName = 'kwadrat.bmp'\n",
        "if not os.path.exists(fileName) :\n",
        "    r = requests.get(url + fileName, allow_redirects=True)\n",
        "    open(fileName, 'wb').write(r.content)"
      ]
    },
    {
      "cell_type": "markdown",
      "metadata": {
        "id": "au1Z34p_xpio"
      },
      "source": [
        "Na wczytanych obrazach wykonaj wybrane operacje logiczne: NOT (operator `~`), AND (`&`), OR (`|`), XOR (`^`).\n",
        "Operator `~` jest jednoargumentowy, wszystkie pozostałe są dwuargumentowe.\n",
        "Alternatywnym sposobem jest wykorzystanie funkcji z biblioteki opencv: `cv2.bitwise_not`, `cv2.bitwise_and`, `cv2.bitwise_or`, `cv2.bitwise_xor`.\n",
        "Wyświetl rezultaty."
      ]
    },
    {
      "cell_type": "code",
      "source": [
        "square_file = 'kwadrat.bmp'\n",
        "kwadrat_image = cv2.imread(square_file, cv2.IMREAD_GRAYSCALE)\n",
        "\n",
        "# Upewnij się, że obrazy są binarne (0-255 -> 0-1)\n",
        "kolo_image = (kolo_image > 0).astype('uint8') * 255\n",
        "kwadrat_image = (kwadrat_image > 0).astype('uint8') * 255\n",
        "\n",
        "# Operacje logiczne\n",
        "negativ_kolo = cv2.bitwise_not(kolo_image)\n",
        "and_result = cv2.bitwise_and(kolo_image, kwadrat_image)\n",
        "or_result = cv2.bitwise_or(kolo_image, kwadrat_image)\n",
        "xor_result = cv2.bitwise_xor(kolo_image, kwadrat_image)\n",
        "\n",
        "# Wyświetlenie obrazów\n",
        "plt.figure(figsize=(12, 8))\n",
        "\n",
        "plt.subplot(3, 3, 1)\n",
        "plt.imshow(kolo_image, cmap='gray')\n",
        "plt.title('Kolo')\n",
        "plt.axis('off')\n",
        "\n",
        "plt.subplot(3, 3, 2)\n",
        "plt.imshow(kwadrat_image, cmap='gray')\n",
        "plt.title('Kwadrat')\n",
        "plt.axis('off')\n",
        "\n",
        "plt.subplot(3, 3, 3)\n",
        "plt.imshow(negativ_kolo, cmap='gray')\n",
        "plt.title('NOT Kolo')\n",
        "plt.axis('off')\n",
        "\n",
        "plt.subplot(3, 3, 4)\n",
        "plt.imshow(and_result, cmap='gray')\n",
        "plt.title('AND')\n",
        "plt.axis('off')\n",
        "\n",
        "plt.subplot(3, 3, 5)\n",
        "plt.imshow(or_result, cmap='gray')\n",
        "plt.title('OR')\n",
        "plt.axis('off')\n",
        "\n",
        "plt.subplot(3, 3, 6)\n",
        "plt.imshow(xor_result, cmap='gray')\n",
        "plt.title('XOR')\n",
        "plt.axis('off')\n",
        "\n",
        "plt.tight_layout()\n",
        "plt.show()"
      ],
      "metadata": {
        "id": "SQn7FXsFMtzs"
      },
      "execution_count": null,
      "outputs": []
    }
  ],
  "metadata": {
    "kernelspec": {
      "display_name": "Python 3",
      "language": "python",
      "name": "python3"
    },
    "language_info": {
      "codemirror_mode": {
        "name": "ipython",
        "version": 3
      },
      "file_extension": ".py",
      "mimetype": "text/x-python",
      "name": "python",
      "nbconvert_exporter": "python",
      "pygments_lexer": "ipython3",
      "version": "3.8.5"
    },
    "colab": {
      "provenance": []
    }
  },
  "nbformat": 4,
  "nbformat_minor": 0
}