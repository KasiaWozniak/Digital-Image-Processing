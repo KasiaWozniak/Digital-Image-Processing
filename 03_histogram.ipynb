{
  "cells": [
    {
      "cell_type": "markdown",
      "metadata": {
        "pycharm": {
          "name": "#%% md\n"
        },
        "id": "GyJVpdDDcDvQ"
      },
      "source": [
        "# Histogram obrazu. Wyrównywanie histogramu."
      ]
    },
    {
      "cell_type": "markdown",
      "source": [
        "## Cel ćwiczenia\n",
        "\n",
        "- Zapoznanie z pojęciem histogramu obrazu (w odcieniach szarości i kolorze).\n",
        "- Zapoznanie z metodami modyfikacji histogramu (rozciąganie, wyrównywanie, dopasowywanie)."
      ],
      "metadata": {
        "collapsed": false,
        "pycharm": {
          "name": "#%% md\n"
        },
        "id": "NLeSSymzcDvS"
      }
    },
    {
      "cell_type": "markdown",
      "source": [
        "## Histogram\n",
        "\n",
        "- Histogramem obrazu nazywamy wykres słupkowy zdefiniowany następującymi zależnościami:<br>\n",
        "\\begin{equation}\n",
        "h(i) = \\sum_{x=0}^{N-1} \\sum_{y=0}^{M-1} p(i,(x,y))\n",
        "\\end{equation}<br>\n",
        "gdzie:<br>\n",
        "\\begin{equation}\n",
        "p(i) =  \\left\\{\n",
        "  \\begin{array}{l l}\n",
        "    1 & \\quad \\text{gdy} f(x,y) = i\\\\\n",
        "    0 & \\quad \\text{gdy} f(x,y) \\ne i\n",
        "  \\end{array} \\right.\n",
        "\\end{equation}\n",
        "\n",
        "- Inaczej mówiąc, histogram zawiera informacje na temat tego ile pikseli o danym poziomie jasności występuje na obrazie (w przypadku obrazu w odcieniach szarości). Określa się to także rozkładem empirycznym cechy.\n",
        "\n",
        "- Często wykorzystuje się tzw. znormalizowaną postać histogramu  – wszystkie wartości $h(i)$ są dzielone przez liczbę pikseli na obrazie.\n",
        "Otrzymana w ten sposób wielkość to gęstość prawdopodobieństwa wystąpienia na obrazie pikseli o odcieniu $i$.\n",
        "\n",
        "- Histogram można zdefiniować również dla obrazów kolorowych.\n",
        "Otrzymujemy wtedy 3 histogramy – po jednym dla danej składowej: R,G,B (lub HSV, YCbCr, itp.) lub histogram trójwymiarowy.\n",
        "\n",
        "- Histogram jest bardzo użyteczny w przetwarzaniu i analizie obrazów.\n",
        "Wykorzystywany jest przy binaryzacji (szerzej na jednym z kolejnych laboratoriów) oraz do oceny jakości (dynamiki, kontrastu) obrazu.\n",
        "W idealnym przypadku wszystkie poziomy jasności w obrazie powinny być wykorzystane (i to najlepiej w miarę jednolicie)  – obrazowo mówiąc histogram powinien rozciągać się od 0  – 255 (obraz w skali szarości).\n",
        "\n",
        "- W przypadku gdy  wykorzystujemy jedynie fragment dostępnego zakresu (wąski histogram)  lub histogram nie jest jednolity (występują dominujące grupy pikseli) obraz ma dość słaby kontrast.\n",
        "Cechę tę można poprawić stosując tzw. rozciąganie albo wyrównywanie histogramu (ang. *histogram equalization*).</div>"
      ],
      "metadata": {
        "collapsed": false,
        "pycharm": {
          "name": "#%% md\n"
        },
        "id": "-vb7gT4WcDvT"
      }
    },
    {
      "cell_type": "markdown",
      "source": [
        "## Histogram dla obrazów w odcieniach szarości\n",
        "\n",
        "1. Zaimportuj potrzebne biblioteki: *OpenCV*, *pyplot* z *matplotlib* i *numpy*.\n",
        "        import cv2\n",
        "        from matplotlib import pyplot as plt\n",
        "        import numpy as np\n",
        "2. Wczytaj obrazy *lenaX.bmp* w skali szarości. *X* jest numerem wczytywanego obrazu (1 - 4).\n",
        "        I = cv2.imread('lenaX.bmp', cv2.IMREAD_GRAYSCALE)\n",
        "3. Oblicz histogram wczytanego obrazu wykorzystując funkcję `cv2.calcHist`.\n",
        "    - Pierwszym argumentem jest obraz, dla którego obliczony zostanie histogram.\n",
        "    Należy go przekazać w nawiasie kwadratowym.\n",
        "    - Drugim argumentem jest numer kanału, dla którego ma zostać obliczony histogram.\n",
        "    Również powinien być przekazany w nawiasie kwadratowym.\n",
        "    - Trzeci argument oznacza maskę, czyli obszar, dla którego ma zostać wyznaczony histogram.\n",
        "    Aby obliczyć dla całego obrazu należy przekazać *None*.\n",
        "    - Czwartym argumentem jest rozmiar histogramu (liczba przedziałów).\n",
        "    Argument powinien być w nawiasie kwadratowym. Dla pełnej skali należy przekazać wartość *256*.\n",
        "    - Ostatnim argumentem jest zakres wartości. Dla obrazów typu *uint8* powinien on wynosić *[0, 256]*.\n",
        "    - Funkcja zwraca obliczony histogram.\n",
        "4. Wyświetl wczytane obrazy i ich histogramy w jednym oknie. Użyj `plt.subplot()` w celu stworzenia siatki wykresów.\n",
        "        figLena, axsLena = plt.subplots(2, 4)\n",
        "Rozmiar utworzonego okna można zmienić wykorzystując instrukcję (uwaga w calach -  1 cal to 2.54cm):\n",
        "        figLena.set_size_inches(20, 10)\n",
        "Przykładowe wyświetlenie obrazu:\n",
        "        axsLena[0, 0].imshow(I1, 'gray', vmin=0, vmax=256)\n",
        "        axsLena[0, 0].axis('off')\n",
        "Przykładowe wyświetlenie histogramu:\n",
        "        axsLena[1, 0].plot(H1)\n",
        "        axsLena[1, 0].grid()\n",
        "5. Przeanalizuj (dokładnie) związek histogramu z jasnością i ostrością obrazu (tu rozumianą jako subiektywne odczucie)."
      ],
      "metadata": {
        "collapsed": false,
        "pycharm": {
          "name": "#%% md\n"
        },
        "id": "lFY1GGOecDvU"
      }
    },
    {
      "cell_type": "code",
      "execution_count": null,
      "metadata": {
        "pycharm": {
          "name": "#%% Zadanie 1 - wyświetlanie\n"
        },
        "id": "KweWeS_UcDvV"
      },
      "outputs": [],
      "source": [
        "import cv2\n",
        "import os\n",
        "import requests\n",
        "from matplotlib import pyplot as plt\n",
        "import numpy as np\n",
        "\n",
        "url = 'https://raw.githubusercontent.com/vision-agh/poc_sw/master/03_Histogram/'\n",
        "\n",
        "fileName = 'lena1.bmp'\n",
        "if not os.path.exists(fileName) :\n",
        "    r = requests.get(url + fileName, allow_redirects=True)\n",
        "    open(fileName, 'wb').write(r.content)\n",
        "\n",
        "fileName = 'lena2.bmp'\n",
        "if not os.path.exists(fileName) :\n",
        "    r = requests.get(url + fileName, allow_redirects=True)\n",
        "    open(fileName, 'wb').write(r.content)\n",
        "\n",
        "fileName = 'lena3.bmp'\n",
        "if not os.path.exists(fileName) :\n",
        "    r = requests.get(url + fileName, allow_redirects=True)\n",
        "    open(fileName, 'wb').write(r.content)\n",
        "\n",
        "fileName = 'lena4.bmp'\n",
        "if not os.path.exists(fileName) :\n",
        "    r = requests.get(url + fileName, allow_redirects=True)\n",
        "    open(fileName, 'wb').write(r.content)"
      ]
    },
    {
      "cell_type": "code",
      "source": [
        "#1\n",
        "import cv2\n",
        "from matplotlib import pyplot as plt\n",
        "import numpy as np\n",
        "\n",
        "#2 Wczytywanie obrazów\n",
        "I_1 = cv2.imread('lena1.bmp', cv2.IMREAD_GRAYSCALE)\n",
        "I_2 = cv2.imread('lena2.bmp', cv2.IMREAD_GRAYSCALE)\n",
        "I_3 = cv2.imread('lena3.bmp', cv2.IMREAD_GRAYSCALE)\n",
        "I_4 = cv2.imread('lena4.bmp', cv2.IMREAD_GRAYSCALE)\n",
        "\n",
        "#3 Obliczanie histogramów\n",
        "hist_1 = cv2.calcHist([I_1], [0], None, [256], [0, 256])\n",
        "hist_2 = cv2.calcHist([I_2], [0], None, [256], [0, 256])\n",
        "hist_3 = cv2.calcHist([I_3], [0], None, [256], [0, 256])\n",
        "hist_4 = cv2.calcHist([I_4], [0], None, [256], [0, 256])\n",
        "\n",
        "#4\n",
        "figLena, axsLena = plt.subplots(2, 4)\n",
        "figLena.set_size_inches(20, 10)\n",
        "\n",
        "axsLena[0, 0].imshow(I_1, 'gray', vmin=0, vmax=256)\n",
        "axsLena[0, 0].axis('off')\n",
        "axsLena[0, 0].set_title(\"Obraz I_1\")\n",
        "\n",
        "axsLena[0, 1].imshow(I_2, 'gray', vmin=0, vmax=256)\n",
        "axsLena[0, 1].axis('off')\n",
        "axsLena[0, 1].set_title(\"Obraz I_2\")\n",
        "\n",
        "axsLena[0, 2].imshow(I_3, 'gray', vmin=0, vmax=256)\n",
        "axsLena[0, 2].axis('off')\n",
        "axsLena[0, 2].set_title(\"Obraz I_3\")\n",
        "\n",
        "axsLena[0, 3].imshow(I_4, 'gray', vmin=0, vmax=256)\n",
        "axsLena[0, 3].axis('off')\n",
        "axsLena[0, 3].set_title(\"Obraz I_4\")\n",
        "\n",
        "axsLena[1, 0].plot(hist_1)\n",
        "axsLena[1, 0].grid()\n",
        "axsLena[1, 0].set_title(\"Histogram I_1\")\n",
        "\n",
        "axsLena[1, 1].plot(hist_2)\n",
        "axsLena[1, 1].grid()\n",
        "axsLena[1, 1].set_title(\"Histogram I_2\")\n",
        "\n",
        "axsLena[1, 2].plot(hist_3)\n",
        "axsLena[1, 2].grid()\n",
        "axsLena[1, 2].set_title(\"Histogram I_3\")\n",
        "\n",
        "axsLena[1, 3].plot(hist_4)\n",
        "axsLena[1, 3].grid()\n",
        "axsLena[1, 3].set_title(\"Histogram I_4\")\n",
        "\n",
        "plt.tight_layout()\n",
        "plt.show()\n"
      ],
      "metadata": {
        "id": "DZ4f5HvkBd6n"
      },
      "execution_count": null,
      "outputs": []
    },
    {
      "cell_type": "markdown",
      "source": [
        "## Rozciąganie histogramu\n",
        "\n",
        "Najprostszą metodą poprawienia jakości obrazu jest tzw. rozciągnięcie histogramu.\n",
        "Polega na przeskalowaniu wartości pikseli w obrazie tak, aby wykorzystać cały dostępny zakres [0-255] (oczywiście w przypadku obrazów w odcieniach szarości w reprezentacji 8-bitowej).\n",
        "\n",
        "1. Wczytaj obraz *hist1.bmp* w skali szarości.\n",
        "Oblicz i wyświetl histogram rozpatrywanego obrazu (na wspólnym rysunku z obrazem).\n",
        "Zwróć uwagę na ilość widocznych szczegółów.\n",
        "2. Rozciągnij histogram obrazu. W tym celu można wykorzystać funkcję `cv2.normalize`.\n",
        "    - Pierwszym argumentem funkcji jest obraz poddawany operacji.\n",
        "    - Drugim argumentem jest tablica do której zostanie wpisany wynik.\n",
        "    Należy ją najpierw zainicjalizować.\n",
        "    Najlepiej zrobić to funkcją `np.zeros`, której pierwszym argumentem jest rozmiar obrazu (`I.shape`), a drugim typ danych (`uint8`).\n",
        "    Można również przekazać `None`, a wynik przypisać do nowej zmiennej.\n",
        "    - Trzecim argumentem jest minimalna wartość po normalizacji.\n",
        "    - Czwartym argumentem jest wartość maksymalna po normalizacji.\n",
        "    - Ostatnim argumentem jest typ wykorzystanej normy (uogólnienie pojęcia długości wektora).\n",
        "    Należy wykorzystać normę `cv2.NORM_MINMAX`.\n",
        "3. Wyświetl obraz oryginalny, po wykonanej operacji oraz ich histogramy.\n",
        "4. Czy ilość \"widocznych\" szczegółów uległa zmianie?"
      ],
      "metadata": {
        "collapsed": false,
        "pycharm": {
          "name": "#%% md\n"
        },
        "id": "yvrZfMJZcDvV"
      }
    },
    {
      "cell_type": "code",
      "execution_count": null,
      "outputs": [],
      "source": [
        "fileName = 'hist1.bmp'\n",
        "if not os.path.exists(fileName) :\n",
        "    r = requests.get(url + fileName, allow_redirects=True)\n",
        "    open(fileName, 'wb').write(r.content)\n",
        "\n",
        "fileName = 'hist2.bmp'\n",
        "if not os.path.exists(fileName) :\n",
        "    r = requests.get(url + fileName, allow_redirects=True)\n",
        "    open(fileName, 'wb').write(r.content)\n",
        "\n",
        "fileName = 'hist3.bmp'\n",
        "if not os.path.exists(fileName) :\n",
        "    r = requests.get(url + fileName, allow_redirects=True)\n",
        "    open(fileName, 'wb').write(r.content)\n",
        "\n",
        "fileName = 'hist4.bmp'\n",
        "if not os.path.exists(fileName) :\n",
        "    r = requests.get(url + fileName, allow_redirects=True)\n",
        "    open(fileName, 'wb').write(r.content)"
      ],
      "metadata": {
        "pycharm": {
          "name": "#%% Zadanie 2 - rozciąganie\n"
        },
        "id": "9dmix38-cDvW"
      }
    },
    {
      "cell_type": "code",
      "source": [
        "import cv2\n",
        "import numpy as np\n",
        "from matplotlib import pyplot as plt\n",
        "\n",
        "I = cv2.imread('hist1.bmp', cv2.IMREAD_GRAYSCALE)\n",
        "\n",
        "hist_original = cv2.calcHist([I], [0], None, [256], [0, 256])\n",
        "\n",
        "I_normalized = np.zeros(I.shape, dtype=np.uint8)\n",
        "cv2.normalize(I, I_normalized, 0, 255, cv2.NORM_MINMAX)\n",
        "\n",
        "hist_normalized = cv2.calcHist([I_normalized], [0], None, [256], [0, 256])\n",
        "\n",
        "fig, axs = plt.subplots(2, 2)\n",
        "fig.set_size_inches(15, 10)\n",
        "\n",
        "axs[0, 0].imshow(I, 'gray', vmin=0, vmax=256)\n",
        "axs[0, 0].axis('off')\n",
        "axs[0, 0].set_title(\"Oryginalny obraz\")\n",
        "\n",
        "axs[1, 0].plot(hist_original)\n",
        "axs[1, 0].grid()\n",
        "axs[1, 0].set_title(\"Histogram oryginalnego obrazu\")\n",
        "\n",
        "axs[0, 1].imshow(I_normalized, 'gray', vmin=0, vmax=256)\n",
        "axs[0, 1].axis('off')\n",
        "axs[0, 1].set_title(\"Obraz po rozciągnięciu histogramu\")\n",
        "\n",
        "axs[1, 1].plot(hist_normalized)\n",
        "axs[1, 1].grid()\n",
        "axs[1, 1].set_title(\"Histogram po rozciągnięciu\")\n",
        "\n",
        "plt.tight_layout()\n",
        "plt.show()\n"
      ],
      "metadata": {
        "id": "G9E4hz1NEVV0"
      },
      "execution_count": null,
      "outputs": []
    },
    {
      "cell_type": "markdown",
      "source": [
        "## Wyrównywanie histogramu\n",
        "\n",
        "<div style=\"text-align: justify\">\n",
        "Bardziej zaawansowaną metodą jest tzw. wyrównywanie histogramu (ang. *histogram equalization – HE*).\n",
        "Idea jest następująca: z punktu widzenia lepszego wykorzystania dostępnych poziomów jasności pożądane jest rozciągnięcie \"szczytów\" histogramu, a~skompresowanie \"dolin\" tak, aby taka sama liczba pikseli reprezentowana była przez każdy z dostępnych poziomów jasności (a przynjamniej przybliżona).\n",
        "Warto zwrócić uwagę, że takie przekształcenie powoduje częściową utratę informacji o szczegółach w obszarach \"dolin\".\n",
        "Inaczej mówiąc, dążymy do sytuacji, aby histogram był względnie jednostajny.\n",
        "Operacją, która pozwala wykonać wyrównywanie histogramu, jest przekształcenie LUT z funkcją przejścia w postaci histogramu skumulowanego danego obrazu.</div><br>\n",
        "\n",
        "<div style=\"text-align: justify\">\n",
        "Histogram skumulowany to funkcja obliczona na podstawie histogramu.\n",
        "Jej pierwszy element to liczba pikseli o odcieniu $0$.\n",
        "Kolejne wartości to liczba pikseli o odcieniach od $0$ do $n$.</div>\n",
        "\n",
        "\\begin{equation}\n",
        "C(n) = \\sum_{i=0}^{n} h(i)\n",
        "\\end{equation}\n",
        "\n",
        "<div style=\"text-align: justify\">\n",
        "Jeżeli histogram jest w postaci znormalizowanej (gęstość rozkładu prawdopodobieństwa) to histogram skumulowany stanowi dystrybuantę rozkładu prawdopodobieństwa.</div><br>\n",
        "\n",
        "1. Wyznacz histogram skumulowany dla obrazu *hist1.bmp*.\n",
        "W tym celu wykorzystaj metodę `cumsum` dla histogramu wczytanego obrazu.\n",
        "Nie przyjmuje ona żadnych argumentów, a zwraca skumulowane wartości tablicy, dla której została użyta.\n",
        "Histogram należy wyliczyć dla **obrazka wejściowego**, a nie dla wyniku rozciągania.\n",
        "2. Histogram skumulowany wyświetl razem z histogramem zwykłym na jednym wykresie (nie obok siebie).\n",
        "Na potrzeby wyświetlenia przeskaluj histogram skumulowany tak, by miał taką samą wartość maksymalną jak zwykły histogram.\n",
        "W tym celu wykorzystaj metodę `max`.\n",
        "3. Wyświetlenie kilku linii na jednym wykresie może być zrealizowane w następujący sposób:\n",
        "        figHistCum, axsHistCum = plt.subplots()\n",
        "\n",
        "        axsHistCum.plot(HHist)\n",
        "        axsHistCum.plot(CHistNorm)\n",
        "        axsHistCum.grid()\n",
        "4. Teraz zaimplementuj klasyczny algorytm wyrównywania histogramu.\n",
        "Wykorzystać należy obliczony histogram skumulowany.\n",
        "Należy go przeskalować w taki sposób aby na jego podstawie zrealizować przekształcenie LUT, czyli do zakresu 0 - 255.\n",
        "\n",
        ">Uwaga. Opisany algorytm wyrównywania histogramu jest wersją uproszczoną.\n",
        ">W wersji pełnej należy podczas skalowania tablicy przekodowań LUT pominąć elementy równe *0*.\n",
        ">\n",
        ">W tym celu należy wykorzystać funkcje `np.ma.masked_equal` i `np.ma.filled`.\n",
        ">Pierwsza służy do ukrywania elementów tablicy, natomiast druga zamienia ukryte elementy na podaną wartość.\n",
        ">W tym przypadku elementem ukrywanym i wpisywaną wartością byłoby *0*.\n",
        "\n",
        "5. Na kolejnym rysunku wyświetl obrazek po przekształceniu, jego histogram oraz histogram skumulowany.\n",
        "Co szczególnego można powiedzieć o jego histogramie i histogramie skumulowanym?\n",
        "6. W bibliotece *OpenCV* dostępna jest funkcja wykonująca wyrównywanie histogramu `cv2.equalizeHist`.\n",
        "Jej argumentem jest obraz, którego histogram zostanie wyrównany. Zwraca natomiast obraz wynikowy.\n",
        "Na kolejnym rysunku wyświetl wynik funkcji, jego histogram oraz histogram skumulowany.\n",
        "7. W wykorzystywanej bibliotece zaimplementowana jest również metoda adaptacyjnego wyrównywania histogramu algorytmem CLAHE (ang. *Contrast Limited Adaptive Histogram Equalization*}.\n",
        "   Kilka słów wyjaśnienia.\n",
        "   Wadą poznanej metody HE jest jej \"globalność\" rozumiana jako nieuwzględnianie lokalnych właściwości obrazu.\n",
        "   Dlatego też powstała metoda adaptacyjnego wyrównywania histogramu (AHE).\n",
        "   Jest ona spotykana w dwóch wariantach:\n",
        "   - dla każdego piksela niezależnie, w pewnym jego otoczeniu, wyznaczany jest histogram i przeprowadzane wyrównywanie.\n",
        "     Jak nietrudno się domyślić rozwiązanie jest dość kosztowne obliczeniowo.\n",
        "   - obraz wejściowy dzielony jest na nienachodzące na siebie prostokątne okna.\n",
        "     W każdym z okien obliczany jest histogram i przeprowadzane jest wyrównywanie.\n",
        "     W celu eliminacji błędów na granicy okien, stosuje się interpolację.\n",
        "\n",
        "   Metoda AHE ma jednak tą wadę, że w obszarach jednorodnych wzmacnia szum.\n",
        "   Dlatego też zaproponowano rozwiązanie CLAHE, które zakłada ograniczenie kontrastu (CL).\n",
        "   W metodzie definiuje się maksymalną wartość danego przedziału histogramu (próg ograniczenia kontrastu).\n",
        "   Piksele, które przekraczają próg są następnie równomiernie rozdzielane pomiędzy poszczególne przedziały.\n",
        "   Bardziej szczegółowy opis obu metod dostępny jest na [Wikipedii](https://en.wikipedia.org/wiki/Adaptive_histogram_equalization).\n",
        "\n",
        "8.W celu użycia algorytmu należy wywołać funkcję `cv2.createCLAHE`.\n",
        "    - Pierwszym parametrem jest próg ograniczenia kontrastu.\n",
        "    - Drugi parametr definiuje na ile prostokątów zostanie podzielony obraz w rzęch i kolumnach.\n",
        "    - Zwracany jest zainicjalizowany *smart pointer* do klasy `cv::CLAHE`.\n",
        "9. Aby wykonać wyrównywanie należy użyć metody `apply`.\n",
        "Jej argumentem jest obraz wejściowy. Zwracany jest obraz o zmodyfikowanym histogramie.\n",
        "10. Przetestuj różne parametry algorytmu CLAHE.\n",
        "11. W kolejnym etapie należy przetestować operacje (rozciąganie, wyrównywanie (HE) i adaptacyjne wyrównywanie CLAHE)  na histogramie dla obrazów rzeczywistych. *hist2.bmp*, *hist3.bmp*, *hist4.jpg*.\n",
        "W jednym oknie wyświetl: obraz oryginalny, rozciąganie, wyrównywanie HE oraz wyrównywanie CLAHE."
      ],
      "metadata": {
        "collapsed": false,
        "pycharm": {
          "name": "#%% md\n"
        },
        "id": "qQYQVoOEcDvW"
      }
    },
    {
      "cell_type": "code",
      "execution_count": null,
      "outputs": [],
      "source": [
        "#1\n",
        "import cv2\n",
        "import numpy as np\n",
        "import matplotlib.pyplot as plt\n",
        "\n",
        "image = cv2.imread('hist1.bmp', 0)\n",
        "\n",
        "hist, bins = np.histogram(image.flatten(), 256, [0,256])\n",
        "\n",
        "hist_cum = hist.cumsum()\n",
        "\n",
        "#2\n",
        "hist_cum_normalized = hist_cum * hist.max() / hist_cum.max()\n",
        "\n",
        "#3\n",
        "plt.figure(figsize=(10,5))\n",
        "plt.plot(hist, color='blue', label='Histogram')\n",
        "plt.plot(hist_cum_normalized, color='red', label='Histogram skumulowany')\n",
        "plt.legend()\n",
        "plt.grid(True)\n",
        "plt.show()"
      ],
      "metadata": {
        "pycharm": {
          "name": "#%% Zadanie 3 - histogram skumulowany\n"
        },
        "id": "Hthp3Q0WcDvX"
      }
    },
    {
      "cell_type": "code",
      "execution_count": null,
      "outputs": [],
      "source": [
        "#4\n",
        "lut = np.ma.masked_equal(hist_cum, 0)\n",
        "lut = (lut - lut.min()) * 255 / (lut.max() - lut.min())\n",
        "lut = np.ma.filled(lut, 0).astype('uint8')\n",
        "\n",
        "image_equalized = lut[image]"
      ],
      "metadata": {
        "pycharm": {
          "name": "#%% Zadanie 3 - wyrównywanie\n"
        },
        "id": "xxEuLreccDvY"
      }
    },
    {
      "cell_type": "code",
      "execution_count": null,
      "outputs": [],
      "source": [
        "#5\n",
        "plt.imshow(image_equalized, cmap='gray')\n",
        "plt.title('Wyrównany obraz')\n",
        "plt.show()\n",
        "\n",
        "hist_equalized, _ = np.histogram(image_equalized.flatten(), 256, [0,256])\n",
        "\n",
        "hist_cum_equalized = hist_equalized.cumsum()\n",
        "hist_cum_equalized_normalized = hist_cum_equalized * hist_equalized.max() / hist_cum_equalized.max()\n",
        "\n",
        "plt.figure(figsize=(10,5))\n",
        "plt.plot(hist_equalized, color='blue', label='Histogram po wyrównaniu')\n",
        "plt.plot(hist_cum_equalized_normalized, color='red', label='Skumulowany histogram po wyrównaniu')\n",
        "plt.legend()\n",
        "plt.grid(True)\n",
        "plt.show()"
      ],
      "metadata": {
        "pycharm": {
          "name": "#%% Zadanie 3 - wyrównywanie OpenCV\n"
        },
        "id": "EajsxfqncDvY"
      }
    },
    {
      "cell_type": "code",
      "execution_count": null,
      "outputs": [],
      "source": [
        "#6\n",
        "image_cv2_equalized = cv2.equalizeHist(image)\n",
        "\n",
        "hist_equalized, _ = np.histogram(image_cv2_equalized.flatten(), 256, [0,256])\n",
        "hist_cum_equalized = hist_equalized.cumsum()\n",
        "hist_cum_equalized_normalized = hist_cum_equalized * hist_equalized.max() / hist_cum_equalized.max()\n",
        "\n",
        "plt.figure(figsize=(15,5))\n",
        "\n",
        "plt.subplot(1,3,1)\n",
        "plt.imshow(image_cv2_equalized, cmap='gray')\n",
        "plt.title('Wyrównany obraz (OpenCV)')\n",
        "\n",
        "plt.subplot(1,3,2)\n",
        "plt.plot(hist_equalized, color='blue')\n",
        "plt.title('Histogram po wyrównaniu')\n",
        "\n",
        "plt.subplot(1,3,3)\n",
        "plt.plot(hist_cum_equalized_normalized, color='red')\n",
        "plt.title('Skumulowany histogram po wyrównaniu')\n",
        "\n",
        "plt.show()"
      ],
      "metadata": {
        "pycharm": {
          "name": "#%% Zadanie 3 - CLAHE\n"
        },
        "id": "xOEFxbVrcDvY"
      }
    },
    {
      "cell_type": "code",
      "source": [
        "#7, 8, 9\n",
        "clahe = cv2.createCLAHE(clipLimit=2.0, tileGridSize=(8, 8))\n",
        "image_clahe = clahe.apply(image)\n",
        "\n",
        "plt.imshow(image_clahe, cmap='gray')\n",
        "plt.title('Obraz po zastosowaniu CLAHE')\n",
        "plt.show()"
      ],
      "metadata": {
        "id": "iZOBsIDFG22k"
      },
      "execution_count": null,
      "outputs": []
    },
    {
      "cell_type": "code",
      "source": [
        "#11\n",
        "image2 = cv2.imread('hist2.bmp', 0)\n",
        "image3 = cv2.imread('hist3.bmp', 0)\n",
        "image4 = cv2.imread('hist4.bmp', 0)\n",
        "\n",
        "# rozciąganie\n",
        "def stretch_histogram(image):\n",
        "    min_val = np.min(image)\n",
        "    max_val = np.max(image)\n",
        "    stretched = cv2.normalize(image, None, 0, 255, cv2.NORM_MINMAX)\n",
        "    return stretched\n",
        "\n",
        "# wyrównywanie (HE)\n",
        "def equalize_histogram(image):\n",
        "    return cv2.equalizeHist(image)\n",
        "\n",
        "# CLAHE\n",
        "def clahe_histogram(image):\n",
        "    clahe = cv2.createCLAHE(clipLimit=2.0, tileGridSize=(8,8))\n",
        "    return clahe.apply(image)\n",
        "\n",
        "images = [image2, image3, image4]\n",
        "image_titles = ['Obraz oryginalny', 'Rozciąganie', 'Wyrównywanie (HE)', 'CLAHE']\n",
        "\n",
        "for idx, image in enumerate(images):\n",
        "    stretched = stretch_histogram(image)\n",
        "    equalized = equalize_histogram(image)\n",
        "    clahe_equalized = clahe_histogram(image)\n",
        "\n",
        "    plt.figure(figsize=(20,10))\n",
        "\n",
        "    plt.subplot(1, 4, 1)\n",
        "    plt.imshow(image, cmap='gray')\n",
        "    plt.title(f'{image_titles[0]} {idx+1}')\n",
        "    plt.axis('off')\n",
        "\n",
        "    plt.subplot(1, 4, 2)\n",
        "    plt.imshow(stretched, cmap='gray')\n",
        "    plt.title(image_titles[1])\n",
        "    plt.axis('off')\n",
        "\n",
        "    plt.subplot(1, 4, 3)\n",
        "    plt.imshow(equalized, cmap='gray')\n",
        "    plt.title(image_titles[2])\n",
        "    plt.axis('off')\n",
        "\n",
        "    plt.subplot(1, 4, 4)\n",
        "    plt.imshow(clahe_equalized, cmap='gray')\n",
        "    plt.title(image_titles[3])\n",
        "    plt.axis('off')\n",
        "\n",
        "    plt.show()"
      ],
      "metadata": {
        "id": "F3KKYWDjG3TT"
      },
      "execution_count": null,
      "outputs": []
    },
    {
      "cell_type": "markdown",
      "source": [
        "## Histogram dla obrazów kolorowych i jego wyrównywanie\n",
        "\n",
        "1. Wczytaj obraz *lenaRGB.bmp*.\n",
        "2. Wykonaj konwersję przestrzeni barw z BGR do RGB.\n",
        "3. Wyświetl wczytany obraz oraz histogram dla każdej składowej przestrzeni barw.\n",
        "W tym celu można użyć drugiego argumentu wykorzystywanej funkcji (numer kanału).\n",
        "4. Wykonaj wyrównywanie dla każdej składowej obrazu. Połącz otrzymane składowe w nowy obraz i wyświetl go.\n",
        "Jaka jest zasadnicza wada takiego podejścia?\n",
        "5. Przekształć obraz wejściowy do przestrzeni HSV (flaga `cv2.COLOR_BGR2HSV`).\n",
        "Wyświetl histogramy poszczególnych składowych.\n",
        "Manipulacji dokonujemy na składowej odpowiadającej za jasność, czyli V.\n",
        "Wykonaj wyrównywanie histogramu dla tej składowej.\n",
        "Dokonaj podmiany składowej V i wyświetl rezultat operacji.\n",
        "Uprzednio przeprowadź konwersję HSV->RGB (flaga `cv2.COLOR_HSV2RGB`).\n",
        "6. Na koniec wykonaj te same operacje dla obrazu *jezioro.jpg*."
      ],
      "metadata": {
        "collapsed": false,
        "pycharm": {
          "name": "#%% md\n"
        },
        "id": "C9WYAOJTcDvZ"
      }
    },
    {
      "cell_type": "code",
      "execution_count": null,
      "outputs": [],
      "source": [
        "fileName = 'lenaRGB.bmp'\n",
        "if not os.path.exists(fileName) :\n",
        "    r = requests.get(url + fileName, allow_redirects=True)\n",
        "    open(fileName, 'wb').write(r.content)\n",
        "\n",
        "fileName = 'jezioro.jpg'\n",
        "if not os.path.exists(fileName) :\n",
        "    r = requests.get(url + fileName, allow_redirects=True)\n",
        "    open(fileName, 'wb').write(r.content)"
      ],
      "metadata": {
        "pycharm": {
          "name": "#%% Zadanie 4 - histogram\n"
        },
        "id": "y5T31GV3cDvZ"
      }
    },
    {
      "cell_type": "code",
      "execution_count": null,
      "outputs": [],
      "source": [
        "#1\n",
        "image = cv2.imread('lenaRGB.bmp')\n",
        "\n",
        "#2\n",
        "image_rgb = cv2.cvtColor(image, cv2.COLOR_BGR2RGB)"
      ],
      "metadata": {
        "pycharm": {
          "name": "#%% Zadanie 4 - wyrównanie\n"
        },
        "id": "vzj4kEtOcDva"
      }
    },
    {
      "cell_type": "code",
      "execution_count": null,
      "outputs": [],
      "source": [
        "#3\n",
        "plt.imshow(image_rgb)\n",
        "plt.title('Oryginalny obraz (RGB)')\n",
        "plt.axis('off')\n",
        "plt.show()\n",
        "\n",
        "def plot_histogram(image, title):\n",
        "    colors = ('r', 'g', 'b')\n",
        "    plt.figure(figsize=(10, 5))\n",
        "    for i, color in enumerate(colors):\n",
        "        hist = cv2.calcHist([image], [i], None, [256], [0, 256])\n",
        "        plt.plot(hist, color=color)\n",
        "    plt.title(title)\n",
        "    plt.xlim([0, 256])\n",
        "    plt.show()\n",
        "\n",
        "plot_histogram(image_rgb, 'Histogramy dla kanałów R, G, B')"
      ],
      "metadata": {
        "pycharm": {
          "name": "#%% Zadanie 4 - HSV histogram\n"
        },
        "id": "sExCMbOYcDva"
      }
    },
    {
      "cell_type": "code",
      "execution_count": null,
      "outputs": [],
      "source": [
        "#4\n",
        "r, g, b = cv2.split(image_rgb)\n",
        "\n",
        "r_eq = cv2.equalizeHist(r)\n",
        "g_eq = cv2.equalizeHist(g)\n",
        "b_eq = cv2.equalizeHist(b)\n",
        "\n",
        "image_eq_rgb = cv2.merge([r_eq, g_eq, b_eq])\n",
        "\n",
        "plt.imshow(image_eq_rgb)\n",
        "plt.title('Obraz po wyrównaniu histogramu dla każdego kanału RGB')\n",
        "plt.axis('off')\n",
        "plt.show()\n",
        "\n",
        "plot_histogram(image_eq_rgb, 'Histogramy po wyrównaniu dla kanałów R, G, B')"
      ],
      "metadata": {
        "pycharm": {
          "name": "#%% Zadanie 4 - HSV wyrównanie\n"
        },
        "id": "AGV4sG7TcDvb"
      }
    },
    {
      "cell_type": "code",
      "source": [
        "#5\n",
        "image_hsv = cv2.cvtColor(image_rgb, cv2.COLOR_RGB2HSV)\n",
        "\n",
        "h, s, v = cv2.split(image_hsv)\n",
        "plot_histogram(cv2.merge([h, s, v]), 'Histogramy dla kanałów H, S, V')\n",
        "\n",
        "v_eq = cv2.equalizeHist(v)\n",
        "\n",
        "image_hsv_eq = cv2.merge([h, s, v_eq])\n",
        "\n",
        "image_rgb_hsv_eq = cv2.cvtColor(image_hsv_eq, cv2.COLOR_HSV2RGB)\n",
        "\n",
        "plt.imshow(image_rgb_hsv_eq)\n",
        "plt.title('Obraz po wyrównaniu składowej V (HSV)')\n",
        "plt.axis('off')\n",
        "plt.show()"
      ],
      "metadata": {
        "id": "vAifJe7POkXF"
      },
      "execution_count": null,
      "outputs": []
    },
    {
      "cell_type": "code",
      "source": [
        "#6\n",
        "image_jezioro = cv2.imread('jezioro.jpg')\n",
        "image_jezioro_rgb = cv2.cvtColor(image_jezioro, cv2.COLOR_BGR2RGB)\n",
        "\n",
        "plt.imshow(image_jezioro_rgb)\n",
        "plt.title('Oryginalny obraz jezioro')\n",
        "plt.axis('off')\n",
        "plt.show()\n",
        "\n",
        "# histogramy RGB\n",
        "plot_histogram(image_jezioro_rgb, 'Histogramy dla kanałów R, G, B - jezioro')\n",
        "\n",
        "# HSV\n",
        "image_jezioro_hsv = cv2.cvtColor(image_jezioro_rgb, cv2.COLOR_RGB2HSV)\n",
        "\n",
        "h_jezioro, s_jezioro, v_jezioro = cv2.split(image_jezioro_hsv)\n",
        "v_jezioro_eq = cv2.equalizeHist(v_jezioro)\n",
        "image_jezioro_hsv_eq = cv2.merge([h_jezioro, s_jezioro, v_jezioro_eq])\n",
        "image_jezioro_rgb_hsv_eq = cv2.cvtColor(image_jezioro_hsv_eq, cv2.COLOR_HSV2RGB)\n",
        "\n",
        "plt.imshow(image_jezioro_rgb_hsv_eq)\n",
        "plt.title('Obraz jezioro po wyrównaniu składowej V (HSV)')\n",
        "plt.axis('off')\n",
        "plt.show()\n"
      ],
      "metadata": {
        "id": "Hsx8ESCeOm0G"
      },
      "execution_count": null,
      "outputs": []
    }
  ],
  "metadata": {
    "kernelspec": {
      "display_name": "Python 3",
      "language": "python",
      "name": "python3"
    },
    "language_info": {
      "codemirror_mode": {
        "name": "ipython",
        "version": 3
      },
      "file_extension": ".py",
      "mimetype": "text/x-python",
      "name": "python",
      "nbconvert_exporter": "python",
      "pygments_lexer": "ipython3",
      "version": "3.8.3"
    },
    "colab": {
      "provenance": []
    }
  },
  "nbformat": 4,
  "nbformat_minor": 0
}